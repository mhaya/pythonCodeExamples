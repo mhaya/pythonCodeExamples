{
 "cells": [
  {
   "cell_type": "code",
   "execution_count": 92,
   "metadata": {
    "collapsed": false
   },
   "outputs": [],
   "source": [
    "import os\n",
    "import cv2 as cv\n",
    "import six.moves.cPickle as pickle\n",
    "import numpy as np\n",
    "import math\n",
    "\n",
    "train = []\n",
    "test = []\n",
    "train_cls = []\n",
    "test_cls = []\n",
    "dic = []\n",
    "dic_ = []\n",
    "dic_cls = []\n",
    "IMG_PATH = \"./merge/characters/\"\n",
    "dn=0\n",
    "\n",
    "tmp = os.listdir(IMG_PATH)\n",
    "# 学習画像の選択（>=100）\n",
    "for d in tmp:\n",
    "    if not d.startswith(\"U+\"):\n",
    "        continue\n",
    "    tmp2 = os.listdir(IMG_PATH+d)\n",
    "    if len(tmp2) >= 100:\n",
    "        dic.append(d)\n",
    "        \n",
    "dic_cls = range(len(dic))\n",
    "dic_cls = map(lambda x: x+1, dic_cls)\n",
    "dic = dict(zip(dic,dic_cls))\n",
    "tmp =map(lambda x:unichr(int(x.replace(\"U+\",\"\"),16)),dic)\n",
    "dic2 = dict(zip(dic_cls,tmp))\n",
    "\n",
    "tmp = os.listdir(IMG_PATH)\n",
    "for d in tmp:\n",
    "    if not d.startswith(\"U+\"):\n",
    "        continue\n",
    "    if(not dic.has_key(d)):\n",
    "        continue\n",
    "    tmp2 = os.listdir(IMG_PATH+d)\n",
    "    # 85% train 15% test\n",
    "    tmp_data = []\n",
    "    tmp_cls = []\n",
    "    for f in tmp2:\n",
    "        image = cv.imread(IMG_PATH+d+\"/\"+f)\n",
    "        image = cv.cvtColor(image, cv.COLOR_RGB2GRAY)\n",
    "        image = cv.resize(image, (32, 32))\n",
    "        image = image/255.0\n",
    "        tmp_data.append(image)\n",
    "        tmp_cls.append(dic[d])\n",
    "    if len(tmp_data)==1:\n",
    "        train.extend(tmp_data)\n",
    "        test.extend(tmp_data)\n",
    "        train_cls.extend(tmp_cls)\n",
    "        test_cls.extend(tmp_cls)\n",
    "    else:\n",
    "        train.extend(tmp_data[1:int(math.ceil(len(tmp_data)*0.85))])\n",
    "        test.extend(tmp_data[int(math.ceil(len(tmp_data)*0.85)):len(tmp_data)])\n",
    "        train_cls.extend(tmp_cls[1:int(math.ceil(len(tmp_cls)*0.85))])\n",
    "        test_cls.extend(tmp_cls[int(math.ceil(len(tmp_cls)*0.85)):len(tmp_cls)])    \n",
    "\n",
    "train = np.array(train, np.float32)\n",
    "test = np.array(test, np.float32)\n",
    "train_cls = np.array(train_cls, np.int32)\n",
    "test_cls = np.array(test_cls, np.int32)\n",
    "pickle.dump((train,train_cls,test,test_cls), open(\"dataset_mono20161121.pkl\", 'wb'), -1)"
   ]
  },
  {
   "cell_type": "code",
   "execution_count": 99,
   "metadata": {
    "collapsed": false
   },
   "outputs": [],
   "source": [
    "%matplotlib inline\n",
    "from __future__ import division, print_function\n",
    "from keras import backend as K\n",
    "from keras.datasets import mnist\n",
    "from keras.layers import Dense, Dropout, Activation, Flatten\n",
    "from keras.layers.convolutional import Convolution1D,MaxPooling1D\n",
    "from keras.layers.normalization import BatchNormalization\n",
    "from keras.models import Sequential\n",
    "from keras.utils.np_utils import to_categorical\n",
    "from sklearn.metrics import classification_report, confusion_matrix\n",
    "import os\n",
    "np.set_printoptions(suppress=True) #小数点表示とする\n",
    "np.set_printoptions(precision=3) #小数点第三位までとする"
   ]
  },
  {
   "cell_type": "code",
   "execution_count": 100,
   "metadata": {
    "collapsed": true
   },
   "outputs": [],
   "source": [
    "train,train_cls,test,test_cls = pickle.load(open(\"dataset_mono20161121.pkl\",\"rb\"))"
   ]
  },
  {
   "cell_type": "code",
   "execution_count": 76,
   "metadata": {
    "collapsed": false
   },
   "outputs": [
    {
     "data": {
      "text/plain": [
       "(60546, 32, 32)"
      ]
     },
     "execution_count": 76,
     "metadata": {},
     "output_type": "execute_result"
    }
   ],
   "source": [
    "train.shape"
   ]
  },
  {
   "cell_type": "code",
   "execution_count": 77,
   "metadata": {
    "collapsed": false
   },
   "outputs": [
    {
     "data": {
      "text/plain": [
       "(10640, 32, 32)"
      ]
     },
     "execution_count": 77,
     "metadata": {},
     "output_type": "execute_result"
    }
   ],
   "source": [
    "test.shape"
   ]
  },
  {
   "cell_type": "code",
   "execution_count": 78,
   "metadata": {
    "collapsed": false
   },
   "outputs": [
    {
     "data": {
      "text/plain": [
       "0.8505324080577642"
      ]
     },
     "execution_count": 78,
     "metadata": {},
     "output_type": "execute_result"
    }
   ],
   "source": [
    "len(train)/(len(train)+len(test))"
   ]
  },
  {
   "cell_type": "code",
   "execution_count": 79,
   "metadata": {
    "collapsed": false
   },
   "outputs": [
    {
     "data": {
      "text/plain": [
       "0.14946759194223583"
      ]
     },
     "execution_count": 79,
     "metadata": {},
     "output_type": "execute_result"
    }
   ],
   "source": [
    "len(test)/(len(train)+len(test))"
   ]
  },
  {
   "cell_type": "code",
   "execution_count": 80,
   "metadata": {
    "collapsed": false
   },
   "outputs": [
    {
     "data": {
      "text/plain": [
       "<matplotlib.image.AxesImage at 0x10e008890>"
      ]
     },
     "execution_count": 80,
     "metadata": {},
     "output_type": "execute_result"
    },
    {
     "data": {
      "image/png": "[encoded data removed]",
      "text/plain": [
       "<matplotlib.figure.Figure at 0x10de6b490>"
      ]
     },
     "metadata": {},
     "output_type": "display_data"
    }
   ],
   "source": [
    "import matplotlib.pyplot as plt\n",
    "\n",
    "plt.imshow(train[1],cmap='Greys_r')"
   ]
  },
  {
   "cell_type": "code",
   "execution_count": 101,
   "metadata": {
    "collapsed": true
   },
   "outputs": [],
   "source": [
    "x_train = train\n",
    "y_train = to_categorical(train_cls)\n",
    "x_test = test\n",
    "y_test = to_categorical(test_cls)"
   ]
  },
  {
   "cell_type": "code",
   "execution_count": 82,
   "metadata": {
    "collapsed": true
   },
   "outputs": [],
   "source": [
    "model = Sequential()\n",
    "model.add(Convolution1D(96, 3, border_mode='same', input_shape=x_train[1].shape))\n",
    "model.add(Activation('relu'))\n",
    "model.add(Convolution1D(32, 2))\n",
    "model.add(Activation('relu'))\n",
    "model.add(MaxPooling1D())\n",
    "model.add(Dropout(0.25))\n",
    "model.add(Convolution1D(64, 3, border_mode='same'))\n",
    "model.add(Activation('relu'))\n",
    "model.add(Convolution1D(64, 3))\n",
    "model.add(Activation('relu'))\n",
    "model.add(MaxPooling1D())\n",
    "model.add(Dropout(0.25))\n",
    "\n",
    "model.add(Flatten())\n",
    "model.add(Dense(512))\n",
    "model.add(Activation('relu'))\n",
    "model.add(Dropout(0.5))\n",
    "model.add(Dense(len(dic)+1))\n",
    "model.add(Activation('softmax'))\n",
    "model.compile(loss='categorical_crossentropy',\n",
    "              optimizer='adam',\n",
    "              metrics=['accuracy'])"
   ]
  },
  {
   "cell_type": "code",
   "execution_count": 83,
   "metadata": {
    "collapsed": false
   },
   "outputs": [
    {
     "name": "stdout",
     "output_type": "stream",
     "text": [
      "Epoch 1/200\n",
      "60546/60546 [==============================] - 32s - loss: 4.1787 - acc: 0.1007    \n",
      "Epoch 2/200\n",
      "60546/60546 [==============================] - 36s - loss: 2.9442 - acc: 0.3049    \n",
      "Epoch 3/200\n",
      "60546/60546 [==============================] - 34s - loss: 2.3827 - acc: 0.4157    \n",
      "Epoch 4/200\n",
      "60546/60546 [==============================] - 34s - loss: 2.0376 - acc: 0.4875    \n",
      "Epoch 5/200\n",
      "60546/60546 [==============================] - 38s - loss: 1.8146 - acc: 0.5358    \n",
      "Epoch 6/200\n",
      "60546/60546 [==============================] - 35s - loss: 1.6541 - acc: 0.5749    \n",
      "Epoch 7/200\n",
      "60546/60546 [==============================] - 35s - loss: 1.5175 - acc: 0.6034    \n",
      "Epoch 8/200\n",
      "60546/60546 [==============================] - 35s - loss: 1.4182 - acc: 0.6259    \n",
      "Epoch 9/200\n",
      "60546/60546 [==============================] - 36s - loss: 1.3453 - acc: 0.6462    \n",
      "Epoch 10/200\n",
      "60546/60546 [==============================] - 38s - loss: 1.2716 - acc: 0.6628    \n",
      "Epoch 11/200\n",
      "60546/60546 [==============================] - 41s - loss: 1.2129 - acc: 0.6761    \n",
      "Epoch 12/200\n",
      "60546/60546 [==============================] - 34s - loss: 1.1697 - acc: 0.6865    \n",
      "Epoch 13/200\n",
      "60546/60546 [==============================] - 38s - loss: 1.1503 - acc: 0.6922    \n",
      "Epoch 14/200\n",
      "60546/60546 [==============================] - 31s - loss: 1.1060 - acc: 0.7027    \n",
      "Epoch 15/200\n",
      "60546/60546 [==============================] - 31s - loss: 1.0677 - acc: 0.7118    \n",
      "Epoch 16/200\n",
      "60546/60546 [==============================] - 32s - loss: 1.0452 - acc: 0.7163    \n",
      "Epoch 17/200\n",
      "60546/60546 [==============================] - 37s - loss: 1.0146 - acc: 0.7234    \n",
      "Epoch 18/200\n",
      "60546/60546 [==============================] - 38s - loss: 1.0072 - acc: 0.7242    \n",
      "Epoch 19/200\n",
      "60546/60546 [==============================] - 42s - loss: 0.9748 - acc: 0.7320    \n",
      "Epoch 20/200\n",
      "60546/60546 [==============================] - 37s - loss: 0.9434 - acc: 0.7386    \n",
      "Epoch 21/200\n",
      "60546/60546 [==============================] - 40s - loss: 0.9385 - acc: 0.7403    \n",
      "Epoch 22/200\n",
      "60546/60546 [==============================] - 39s - loss: 0.9234 - acc: 0.7452    \n",
      "Epoch 23/200\n",
      "60546/60546 [==============================] - 39s - loss: 0.9148 - acc: 0.7476    \n",
      "Epoch 24/200\n",
      "60546/60546 [==============================] - 44s - loss: 0.8950 - acc: 0.7507    \n",
      "Epoch 25/200\n",
      "60546/60546 [==============================] - 39s - loss: 0.8852 - acc: 0.7540    \n",
      "Epoch 26/200\n",
      "60546/60546 [==============================] - 39s - loss: 0.8687 - acc: 0.7586    \n",
      "Epoch 27/200\n",
      "60546/60546 [==============================] - 40s - loss: 0.8631 - acc: 0.7602    \n",
      "Epoch 28/200\n",
      "60546/60546 [==============================] - 40s - loss: 0.8533 - acc: 0.7608    \n",
      "Epoch 29/200\n",
      "60546/60546 [==============================] - 42s - loss: 0.8651 - acc: 0.7581    \n",
      "Epoch 30/200\n",
      "60546/60546 [==============================] - 38s - loss: 0.8229 - acc: 0.7692    \n",
      "Epoch 31/200\n",
      "60546/60546 [==============================] - 32s - loss: 0.8253 - acc: 0.7684    \n",
      "Epoch 32/200\n",
      "60546/60546 [==============================] - 32s - loss: 0.8123 - acc: 0.7716    \n",
      "Epoch 33/200\n",
      "60546/60546 [==============================] - 32s - loss: 0.8063 - acc: 0.7751    \n",
      "Epoch 34/200\n",
      "60546/60546 [==============================] - 34s - loss: 0.7939 - acc: 0.7775    \n",
      "Epoch 35/200\n",
      "60546/60546 [==============================] - 40s - loss: 0.7917 - acc: 0.7774    \n",
      "Epoch 36/200\n",
      "60546/60546 [==============================] - 37s - loss: 0.7821 - acc: 0.7791    \n",
      "Epoch 37/200\n",
      "60546/60546 [==============================] - 37s - loss: 0.7851 - acc: 0.7798    \n",
      "Epoch 38/200\n",
      "60546/60546 [==============================] - 38s - loss: 0.8035 - acc: 0.7742    \n",
      "Epoch 39/200\n",
      "60546/60546 [==============================] - 38s - loss: 0.7622 - acc: 0.7844    \n",
      "Epoch 40/200\n",
      "60546/60546 [==============================] - 38s - loss: 0.7602 - acc: 0.7846    \n",
      "Epoch 41/200\n",
      "60546/60546 [==============================] - 38s - loss: 0.7435 - acc: 0.7883    \n",
      "Epoch 42/200\n",
      "60546/60546 [==============================] - 35s - loss: 0.7497 - acc: 0.7873    \n",
      "Epoch 43/200\n",
      "60546/60546 [==============================] - 32s - loss: 0.7840 - acc: 0.7800    \n",
      "Epoch 44/200\n",
      "60546/60546 [==============================] - 32s - loss: 0.7459 - acc: 0.7891    \n",
      "Epoch 45/200\n",
      "60546/60546 [==============================] - 37s - loss: 0.7330 - acc: 0.7907    \n",
      "Epoch 46/200\n",
      "60546/60546 [==============================] - 32s - loss: 0.7242 - acc: 0.7934    \n",
      "Epoch 47/200\n",
      "60546/60546 [==============================] - 34s - loss: 0.7198 - acc: 0.7940    \n",
      "Epoch 48/200\n",
      "60546/60546 [==============================] - 33s - loss: 0.7476 - acc: 0.7867    \n",
      "Epoch 49/200\n",
      "60546/60546 [==============================] - 35s - loss: 0.7128 - acc: 0.7964    \n",
      "Epoch 50/200\n",
      "60546/60546 [==============================] - 39s - loss: 0.7100 - acc: 0.7981    \n",
      "Epoch 51/200\n",
      "60546/60546 [==============================] - 38s - loss: 0.6989 - acc: 0.7998    \n",
      "Epoch 52/200\n",
      "60546/60546 [==============================] - 39s - loss: 0.7031 - acc: 0.7982    \n",
      "Epoch 53/200\n",
      "60546/60546 [==============================] - 37s - loss: 0.7017 - acc: 0.8010    \n",
      "Epoch 54/200\n",
      "60546/60546 [==============================] - 37s - loss: 0.6869 - acc: 0.8029    \n",
      "Epoch 55/200\n",
      "60546/60546 [==============================] - 37s - loss: 0.6962 - acc: 0.8021    \n",
      "Epoch 56/200\n",
      "60546/60546 [==============================] - 37s - loss: 0.6928 - acc: 0.8010    \n",
      "Epoch 57/200\n",
      "60546/60546 [==============================] - 39s - loss: 0.6832 - acc: 0.8046    \n",
      "Epoch 58/200\n",
      "60546/60546 [==============================] - 38s - loss: 0.6813 - acc: 0.8056    \n",
      "Epoch 59/200\n",
      "60546/60546 [==============================] - 38s - loss: 0.6835 - acc: 0.8049    \n",
      "Epoch 60/200\n",
      "60546/60546 [==============================] - 43s - loss: 0.6743 - acc: 0.8066    \n",
      "Epoch 61/200\n",
      "60546/60546 [==============================] - 39s - loss: 0.6904 - acc: 0.8030    \n",
      "Epoch 62/200\n",
      "60546/60546 [==============================] - 37s - loss: 0.6685 - acc: 0.8068    \n",
      "Epoch 63/200\n",
      "60546/60546 [==============================] - 37s - loss: 0.6758 - acc: 0.8070    \n",
      "Epoch 64/200\n",
      "60546/60546 [==============================] - 37s - loss: 0.6635 - acc: 0.8096    \n",
      "Epoch 65/200\n",
      "60546/60546 [==============================] - 37s - loss: 0.6613 - acc: 0.8096    \n",
      "Epoch 66/200\n",
      "60546/60546 [==============================] - 37s - loss: 0.6554 - acc: 0.8100    \n",
      "Epoch 67/200\n",
      "60546/60546 [==============================] - 37s - loss: 0.6779 - acc: 0.8044    \n",
      "Epoch 68/200\n",
      "60546/60546 [==============================] - 37s - loss: 0.6618 - acc: 0.8080    \n",
      "Epoch 69/200\n",
      "60546/60546 [==============================] - 38s - loss: 0.6576 - acc: 0.8111    \n",
      "Epoch 70/200\n",
      "60546/60546 [==============================] - 38s - loss: 0.6427 - acc: 0.8132    \n",
      "Epoch 71/200\n",
      "60546/60546 [==============================] - 38s - loss: 0.6645 - acc: 0.8091    \n",
      "Epoch 72/200\n",
      "60546/60546 [==============================] - 38s - loss: 0.6461 - acc: 0.8123    \n",
      "Epoch 73/200\n",
      "60546/60546 [==============================] - 37s - loss: 0.6523 - acc: 0.8116    \n",
      "Epoch 74/200\n",
      "60546/60546 [==============================] - 38s - loss: 0.6472 - acc: 0.8134    \n",
      "Epoch 75/200\n",
      "60546/60546 [==============================] - 37s - loss: 0.6485 - acc: 0.8115    \n",
      "Epoch 76/200\n",
      "60546/60546 [==============================] - 38s - loss: 0.6394 - acc: 0.8153    \n",
      "Epoch 77/200\n",
      "60546/60546 [==============================] - 38s - loss: 0.6373 - acc: 0.8155    \n",
      "Epoch 78/200\n",
      "60546/60546 [==============================] - 38s - loss: 0.6371 - acc: 0.8156    \n",
      "Epoch 79/200\n",
      "60546/60546 [==============================] - 38s - loss: 0.6291 - acc: 0.8183    \n",
      "Epoch 80/200\n",
      "60546/60546 [==============================] - 38s - loss: 0.6467 - acc: 0.8118    \n",
      "Epoch 81/200\n",
      "60546/60546 [==============================] - 38s - loss: 0.6338 - acc: 0.8152    \n",
      "Epoch 82/200\n",
      "60546/60546 [==============================] - 38s - loss: 0.6418 - acc: 0.8138    \n",
      "Epoch 83/200\n",
      "60546/60546 [==============================] - 38s - loss: 0.6336 - acc: 0.8188    \n",
      "Epoch 84/200\n",
      "60546/60546 [==============================] - 38s - loss: 0.6220 - acc: 0.8204    \n",
      "Epoch 85/200\n",
      "60546/60546 [==============================] - 38s - loss: 0.6205 - acc: 0.8204    \n",
      "Epoch 86/200\n",
      "60546/60546 [==============================] - 38s - loss: 0.6592 - acc: 0.8104    \n",
      "Epoch 87/200\n",
      "60546/60546 [==============================] - 38s - loss: 0.6310 - acc: 0.8149    \n",
      "Epoch 88/200\n",
      "60546/60546 [==============================] - 38s - loss: 0.6170 - acc: 0.8226    \n",
      "Epoch 89/200\n",
      "60546/60546 [==============================] - 39s - loss: 0.6147 - acc: 0.8220    \n",
      "Epoch 90/200\n",
      "60546/60546 [==============================] - 39s - loss: 0.6126 - acc: 0.8227    \n",
      "Epoch 91/200\n",
      "60546/60546 [==============================] - 38s - loss: 0.6181 - acc: 0.8200    \n",
      "Epoch 92/200\n",
      "60546/60546 [==============================] - 38s - loss: 0.6123 - acc: 0.8225    \n",
      "Epoch 93/200\n",
      "60546/60546 [==============================] - 38s - loss: 0.6126 - acc: 0.8232    \n",
      "Epoch 94/200\n",
      "60546/60546 [==============================] - 39s - loss: 0.6143 - acc: 0.8211    \n",
      "Epoch 95/200\n",
      "60546/60546 [==============================] - 39s - loss: 0.6117 - acc: 0.8223    \n",
      "Epoch 96/200\n",
      "60546/60546 [==============================] - 38s - loss: 0.6058 - acc: 0.8232    \n",
      "Epoch 97/200\n",
      "60546/60546 [==============================] - 39s - loss: 0.6093 - acc: 0.8223    \n",
      "Epoch 98/200\n",
      "60546/60546 [==============================] - 42s - loss: 0.6255 - acc: 0.8187    \n",
      "Epoch 99/200\n",
      "60546/60546 [==============================] - 38s - loss: 0.5939 - acc: 0.8260    \n",
      "Epoch 100/200\n",
      "60546/60546 [==============================] - 35s - loss: 0.6068 - acc: 0.8236    \n",
      "Epoch 101/200\n",
      "60546/60546 [==============================] - 36s - loss: 0.6094 - acc: 0.8236    \n",
      "Epoch 102/200\n",
      "60546/60546 [==============================] - 35s - loss: 0.6028 - acc: 0.8238    \n",
      "Epoch 103/200\n",
      "60546/60546 [==============================] - 35s - loss: 0.6021 - acc: 0.8236    \n",
      "Epoch 104/200\n",
      "60546/60546 [==============================] - 35s - loss: 0.5994 - acc: 0.8230    \n",
      "Epoch 105/200\n",
      "60546/60546 [==============================] - 35s - loss: 0.5972 - acc: 0.8270    \n",
      "Epoch 106/200\n",
      "60546/60546 [==============================] - 35s - loss: 0.6138 - acc: 0.8222    \n",
      "Epoch 107/200\n",
      "60546/60546 [==============================] - 35s - loss: 0.5935 - acc: 0.8246    \n",
      "Epoch 108/200\n",
      "60546/60546 [==============================] - 35s - loss: 0.6054 - acc: 0.8253    \n",
      "Epoch 109/200\n",
      "60546/60546 [==============================] - 35s - loss: 0.6023 - acc: 0.8236    \n",
      "Epoch 110/200\n",
      "60546/60546 [==============================] - 35s - loss: 0.5925 - acc: 0.8282    \n",
      "Epoch 111/200\n",
      "60546/60546 [==============================] - 36s - loss: 0.5863 - acc: 0.8274    \n",
      "Epoch 112/200\n",
      "60546/60546 [==============================] - 40s - loss: 0.5867 - acc: 0.8292    \n",
      "Epoch 113/200\n",
      "60546/60546 [==============================] - 39s - loss: 0.5950 - acc: 0.8278    \n",
      "Epoch 114/200\n",
      "60546/60546 [==============================] - 3773s - loss: 0.6075 - acc: 0.8229  \n",
      "Epoch 115/200\n",
      "60546/60546 [==============================] - 45s - loss: 0.6104 - acc: 0.8203    \n",
      "Epoch 116/200\n",
      "60546/60546 [==============================] - 41s - loss: 0.5809 - acc: 0.8295    \n",
      "Epoch 117/200\n",
      "60546/60546 [==============================] - 41s - loss: 0.5854 - acc: 0.8288    \n",
      "Epoch 118/200\n",
      "60546/60546 [==============================] - 41s - loss: 0.5894 - acc: 0.8291    \n",
      "Epoch 119/200\n",
      "60546/60546 [==============================] - 41s - loss: 0.5873 - acc: 0.8281    \n",
      "Epoch 120/200\n",
      "60546/60546 [==============================] - 41s - loss: 0.5778 - acc: 0.8308    \n",
      "Epoch 121/200\n",
      "60546/60546 [==============================] - 42s - loss: 0.5846 - acc: 0.8300    \n",
      "Epoch 122/200\n",
      "60546/60546 [==============================] - 42s - loss: 0.5892 - acc: 0.8283    \n",
      "Epoch 123/200\n",
      "60546/60546 [==============================] - 41s - loss: 0.5786 - acc: 0.8304    \n",
      "Epoch 124/200\n",
      "60546/60546 [==============================] - 40s - loss: 0.5870 - acc: 0.8281    \n",
      "Epoch 125/200\n",
      "60546/60546 [==============================] - 41s - loss: 0.5788 - acc: 0.8304    \n",
      "Epoch 126/200\n",
      "60546/60546 [==============================] - 41s - loss: 0.5891 - acc: 0.8281    \n",
      "Epoch 127/200\n",
      "60546/60546 [==============================] - 41s - loss: 0.5773 - acc: 0.8301    \n",
      "Epoch 128/200\n",
      "60546/60546 [==============================] - 41s - loss: 0.5879 - acc: 0.8296    \n",
      "Epoch 129/200\n",
      "60546/60546 [==============================] - 42s - loss: 0.5574 - acc: 0.8362    \n",
      "Epoch 130/200\n",
      "60546/60546 [==============================] - 46s - loss: 0.5719 - acc: 0.8324    \n",
      "Epoch 131/200\n",
      "60546/60546 [==============================] - 45s - loss: 0.5820 - acc: 0.8289    \n",
      "Epoch 132/200\n",
      "60546/60546 [==============================] - 43s - loss: 0.5678 - acc: 0.8335    \n",
      "Epoch 133/200\n",
      "60546/60546 [==============================] - 47s - loss: 0.5787 - acc: 0.8320    \n",
      "Epoch 134/200\n",
      "60546/60546 [==============================] - 41s - loss: 0.5768 - acc: 0.8314    \n",
      "Epoch 135/200\n",
      "60546/60546 [==============================] - 46s - loss: 0.5699 - acc: 0.8310    \n",
      "Epoch 136/200\n",
      "60546/60546 [==============================] - 46s - loss: 0.5763 - acc: 0.8310    \n",
      "Epoch 137/200\n",
      "60546/60546 [==============================] - 45s - loss: 0.5697 - acc: 0.8327    \n",
      "Epoch 138/200\n",
      "60546/60546 [==============================] - 46s - loss: 0.5685 - acc: 0.8337    \n",
      "Epoch 139/200\n",
      "60546/60546 [==============================] - 43s - loss: 0.5691 - acc: 0.8333    \n",
      "Epoch 140/200\n",
      "60546/60546 [==============================] - 41s - loss: 0.5685 - acc: 0.8333    \n",
      "Epoch 141/200\n",
      "60546/60546 [==============================] - 48s - loss: 0.5634 - acc: 0.8343    \n",
      "Epoch 142/200\n",
      "60546/60546 [==============================] - 43s - loss: 0.5641 - acc: 0.8342    \n",
      "Epoch 143/200\n",
      "60546/60546 [==============================] - 47s - loss: 0.5951 - acc: 0.8264    \n",
      "Epoch 144/200\n",
      "60546/60546 [==============================] - 48s - loss: 0.5567 - acc: 0.8349    \n",
      "Epoch 145/200\n",
      "60546/60546 [==============================] - 42s - loss: 0.5736 - acc: 0.8323    \n",
      "Epoch 146/200\n",
      "60546/60546 [==============================] - 42s - loss: 0.5634 - acc: 0.8342    \n",
      "Epoch 147/200\n",
      "60546/60546 [==============================] - 47s - loss: 0.5628 - acc: 0.8355    \n",
      "Epoch 148/200\n",
      "60546/60546 [==============================] - 44s - loss: 0.5606 - acc: 0.8367    \n",
      "Epoch 149/200\n",
      "60546/60546 [==============================] - 48s - loss: 0.5640 - acc: 0.8360    \n",
      "Epoch 150/200\n",
      "60546/60546 [==============================] - 44s - loss: 0.5550 - acc: 0.8372    \n",
      "Epoch 151/200\n",
      "60546/60546 [==============================] - 46s - loss: 0.5570 - acc: 0.8347    \n",
      "Epoch 152/200\n",
      "60546/60546 [==============================] - 48s - loss: 0.5668 - acc: 0.8331    \n",
      "Epoch 153/200\n",
      "60546/60546 [==============================] - 45s - loss: 0.5569 - acc: 0.8372    \n",
      "Epoch 154/200\n",
      "60546/60546 [==============================] - 45s - loss: 0.5576 - acc: 0.8358    \n",
      "Epoch 155/200\n",
      "60546/60546 [==============================] - 43s - loss: 0.5603 - acc: 0.8364    \n",
      "Epoch 156/200\n",
      "60546/60546 [==============================] - 48s - loss: 0.5621 - acc: 0.8356    \n",
      "Epoch 157/200\n",
      "60546/60546 [==============================] - 43s - loss: 0.5497 - acc: 0.8376    \n",
      "Epoch 158/200\n",
      "60546/60546 [==============================] - 42s - loss: 0.5932 - acc: 0.8284    \n",
      "Epoch 159/200\n",
      "60546/60546 [==============================] - 42s - loss: 0.5776 - acc: 0.8315    \n",
      "Epoch 160/200\n",
      "60546/60546 [==============================] - 42s - loss: 0.5609 - acc: 0.8359    \n",
      "Epoch 161/200\n",
      "60546/60546 [==============================] - 42s - loss: 0.5492 - acc: 0.8376    \n",
      "Epoch 162/200\n",
      "60546/60546 [==============================] - 42s - loss: 0.5683 - acc: 0.8339    \n",
      "Epoch 163/200\n",
      "60546/60546 [==============================] - 42s - loss: 0.5511 - acc: 0.8377    \n",
      "Epoch 164/200\n",
      "60546/60546 [==============================] - 42s - loss: 0.5453 - acc: 0.8381    \n",
      "Epoch 165/200\n",
      "60546/60546 [==============================] - 42s - loss: 0.5481 - acc: 0.8385    \n",
      "Epoch 166/200\n",
      "60546/60546 [==============================] - 42s - loss: 0.5644 - acc: 0.8337    \n",
      "Epoch 167/200\n",
      "60546/60546 [==============================] - 42s - loss: 0.5450 - acc: 0.8396    \n",
      "Epoch 168/200\n",
      "60546/60546 [==============================] - 43s - loss: 0.5549 - acc: 0.8363    \n",
      "Epoch 169/200\n",
      "60546/60546 [==============================] - 43s - loss: 0.5430 - acc: 0.8396    \n",
      "Epoch 170/200\n",
      "60546/60546 [==============================] - 42s - loss: 0.5504 - acc: 0.8354    \n",
      "Epoch 171/200\n",
      "60546/60546 [==============================] - 43s - loss: 0.5500 - acc: 0.8375    \n",
      "Epoch 172/200\n",
      "60546/60546 [==============================] - 43s - loss: 0.5464 - acc: 0.8400    \n",
      "Epoch 173/200\n",
      "60546/60546 [==============================] - 43s - loss: 0.5450 - acc: 0.8410    \n",
      "Epoch 174/200\n",
      "60546/60546 [==============================] - 43s - loss: 0.5609 - acc: 0.8349    \n",
      "Epoch 175/200\n",
      "60546/60546 [==============================] - 43s - loss: 0.5561 - acc: 0.8365    \n",
      "Epoch 176/200\n",
      "60546/60546 [==============================] - 42s - loss: 0.5459 - acc: 0.8379    \n",
      "Epoch 177/200\n",
      "60546/60546 [==============================] - 43s - loss: 0.5748 - acc: 0.8325    \n",
      "Epoch 178/200\n",
      "60546/60546 [==============================] - 46s - loss: 0.5407 - acc: 0.8417    \n",
      "Epoch 179/200\n",
      "60546/60546 [==============================] - 50s - loss: 0.5455 - acc: 0.8398    \n",
      "Epoch 180/200\n",
      "60546/60546 [==============================] - 51s - loss: 0.5441 - acc: 0.8394    \n",
      "Epoch 181/200\n",
      "60546/60546 [==============================] - 51s - loss: 0.5415 - acc: 0.8397    \n",
      "Epoch 182/200\n",
      "60546/60546 [==============================] - 51s - loss: 0.5556 - acc: 0.8364    \n",
      "Epoch 183/200\n",
      "60546/60546 [==============================] - 51s - loss: 0.5338 - acc: 0.8413    \n",
      "Epoch 184/200\n",
      "60546/60546 [==============================] - 51s - loss: 0.5355 - acc: 0.8402    \n",
      "Epoch 185/200\n",
      "60546/60546 [==============================] - 48s - loss: 0.5429 - acc: 0.8401    \n",
      "Epoch 186/200\n",
      "60546/60546 [==============================] - 43s - loss: 0.5609 - acc: 0.8354    \n",
      "Epoch 187/200\n",
      "60546/60546 [==============================] - 43s - loss: 0.5359 - acc: 0.8419    \n",
      "Epoch 188/200\n",
      "60546/60546 [==============================] - 42s - loss: 0.5425 - acc: 0.8407    \n",
      "Epoch 189/200\n",
      "60546/60546 [==============================] - 43s - loss: 0.5363 - acc: 0.8423    \n",
      "Epoch 190/200\n",
      "60546/60546 [==============================] - 43s - loss: 0.5341 - acc: 0.8431    \n",
      "Epoch 191/200\n",
      "60546/60546 [==============================] - 43s - loss: 0.5484 - acc: 0.8392    \n",
      "Epoch 192/200\n",
      "60546/60546 [==============================] - 43s - loss: 0.5345 - acc: 0.8421    \n",
      "Epoch 193/200\n",
      "60546/60546 [==============================] - 43s - loss: 0.5317 - acc: 0.8410    \n",
      "Epoch 194/200\n",
      "60546/60546 [==============================] - 43s - loss: 0.5409 - acc: 0.8408    \n",
      "Epoch 195/200\n",
      "60546/60546 [==============================] - 43s - loss: 0.5399 - acc: 0.8400    \n",
      "Epoch 196/200\n",
      "60546/60546 [==============================] - 43s - loss: 0.5379 - acc: 0.8402    \n",
      "Epoch 197/200\n",
      "60546/60546 [==============================] - 44s - loss: 0.5345 - acc: 0.8403    \n",
      "Epoch 198/200\n",
      "60546/60546 [==============================] - 43s - loss: 0.5492 - acc: 0.8380    \n",
      "Epoch 199/200\n",
      "60546/60546 [==============================] - 42s - loss: 0.5437 - acc: 0.8387    \n",
      "Epoch 200/200\n",
      "60546/60546 [==============================] - 42s - loss: 0.5352 - acc: 0.8411    \n"
     ]
    },
    {
     "data": {
      "text/plain": [
       "<keras.callbacks.History at 0x117ac3e90>"
      ]
     },
     "execution_count": 83,
     "metadata": {},
     "output_type": "execute_result"
    }
   ],
   "source": [
    "model.fit(x_train, y_train, batch_size=128, nb_epoch=200, verbose=1)"
   ]
  },
  {
   "cell_type": "code",
   "execution_count": 84,
   "metadata": {
    "collapsed": true
   },
   "outputs": [],
   "source": [
    "model.save(\"model20161121.h5\")"
   ]
  },
  {
   "cell_type": "code",
   "execution_count": 102,
   "metadata": {
    "collapsed": true
   },
   "outputs": [],
   "source": [
    "from keras.models import load_model\n",
    "model = load_model('./model20161121.h5')"
   ]
  },
  {
   "cell_type": "code",
   "execution_count": 103,
   "metadata": {
    "collapsed": false
   },
   "outputs": [
    {
     "name": "stdout",
     "output_type": "stream",
     "text": [
      "10624/10640 [============================>.] - ETA: 0s"
     ]
    }
   ],
   "source": [
    "evaluation = model.evaluate(x_test,y_test,verbose=1)"
   ]
  },
  {
   "cell_type": "code",
   "execution_count": 104,
   "metadata": {
    "collapsed": false
   },
   "outputs": [
    {
     "name": "stdout",
     "output_type": "stream",
     "text": [
      "Test loss : 0.94267200181\n",
      "Test accuracy : 0.753571428571\n"
     ]
    }
   ],
   "source": [
    "print('Test loss :', evaluation[0])\n",
    "print('Test accuracy :', evaluation[1])"
   ]
  },
  {
   "cell_type": "code",
   "execution_count": null,
   "metadata": {
    "collapsed": true
   },
   "outputs": [],
   "source": []
  }
 ],
 "metadata": {
  "kernelspec": {
   "display_name": "Python 2",
   "language": "python",
   "name": "python2"
  },
  "language_info": {
   "codemirror_mode": {
    "name": "ipython",
    "version": 2
   },
   "file_extension": ".py",
   "mimetype": "text/x-python",
   "name": "python",
   "nbconvert_exporter": "python",
   "pygments_lexer": "ipython2",
   "version": "2.7.10"
  }
 },
 "nbformat": 4,
 "nbformat_minor": 1
}
